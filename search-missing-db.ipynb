{
 "cells": [
  {
   "cell_type": "code",
   "execution_count": 122,
   "metadata": {},
   "outputs": [],
   "source": [
    "import pandas as pd \n",
    "import numpy as np \n",
    "\n",
    "# getting NamUs Missing Persons database in 3 parts \n",
    "db1_missing = pd.read_csv(\"data/missing-namus-first-pull.csv\")\n",
    "db2_missing = pd.read_csv(\"data/missing-namus-second-pull.csv\") \n",
    "db3_missing = pd.read_csv(\"data/missing-namus-third-pull.csv\") \n",
    "\n",
    "# combining all 3 into one dataframe \n",
    "missing_df = pd.concat([db1_missing, db2_missing, db3_missing], ignore_index=True, sort=False)"
   ]
  },
  {
   "cell_type": "code",
   "execution_count": 123,
   "metadata": {},
   "outputs": [
    {
     "data": {
      "text/html": [
       "<div>\n",
       "<style scoped>\n",
       "    .dataframe tbody tr th:only-of-type {\n",
       "        vertical-align: middle;\n",
       "    }\n",
       "\n",
       "    .dataframe tbody tr th {\n",
       "        vertical-align: top;\n",
       "    }\n",
       "\n",
       "    .dataframe thead th {\n",
       "        text-align: right;\n",
       "    }\n",
       "</style>\n",
       "<table border=\"1\" class=\"dataframe\">\n",
       "  <thead>\n",
       "    <tr style=\"text-align: right;\">\n",
       "      <th></th>\n",
       "      <th>Case Number</th>\n",
       "      <th>DLC</th>\n",
       "      <th>Legal Last Name</th>\n",
       "      <th>Legal First Name</th>\n",
       "      <th>Missing Age</th>\n",
       "      <th>City</th>\n",
       "      <th>County</th>\n",
       "      <th>State</th>\n",
       "      <th>Biological Sex</th>\n",
       "      <th>Race / Ethnicity</th>\n",
       "      <th>Date Modified</th>\n",
       "    </tr>\n",
       "  </thead>\n",
       "  <tbody>\n",
       "    <tr>\n",
       "      <th>0</th>\n",
       "      <td>MP128712</td>\n",
       "      <td>09/04/2024</td>\n",
       "      <td>Campirano</td>\n",
       "      <td>Nixon</td>\n",
       "      <td>16 Years</td>\n",
       "      <td>Goodyear</td>\n",
       "      <td>Maricopa</td>\n",
       "      <td>AZ</td>\n",
       "      <td>Male</td>\n",
       "      <td>White / Caucasian</td>\n",
       "      <td>09/06/2024</td>\n",
       "    </tr>\n",
       "    <tr>\n",
       "      <th>1</th>\n",
       "      <td>MP128606</td>\n",
       "      <td>08/31/2024</td>\n",
       "      <td>Batra</td>\n",
       "      <td>Anjali</td>\n",
       "      <td>18 Years</td>\n",
       "      <td>Morgan Hill</td>\n",
       "      <td>Santa Clara</td>\n",
       "      <td>CA</td>\n",
       "      <td>Female</td>\n",
       "      <td>Other</td>\n",
       "      <td>09/04/2024</td>\n",
       "    </tr>\n",
       "    <tr>\n",
       "      <th>2</th>\n",
       "      <td>MP128466</td>\n",
       "      <td>08/30/2024</td>\n",
       "      <td>CLARK</td>\n",
       "      <td>JOSHUA</td>\n",
       "      <td>35 Years</td>\n",
       "      <td>Mulberry</td>\n",
       "      <td>Polk</td>\n",
       "      <td>FL</td>\n",
       "      <td>Male</td>\n",
       "      <td>White / Caucasian</td>\n",
       "      <td>09/06/2024</td>\n",
       "    </tr>\n",
       "    <tr>\n",
       "      <th>3</th>\n",
       "      <td>MP128454</td>\n",
       "      <td>08/30/2024</td>\n",
       "      <td>Turney-Long</td>\n",
       "      <td>Alinda</td>\n",
       "      <td>16 Years</td>\n",
       "      <td>Winter Haven</td>\n",
       "      <td>Polk</td>\n",
       "      <td>FL</td>\n",
       "      <td>Female</td>\n",
       "      <td>White / Caucasian</td>\n",
       "      <td>09/06/2024</td>\n",
       "    </tr>\n",
       "    <tr>\n",
       "      <th>4</th>\n",
       "      <td>MP128473</td>\n",
       "      <td>08/30/2024</td>\n",
       "      <td>COTE</td>\n",
       "      <td>KATHY</td>\n",
       "      <td>78 Years</td>\n",
       "      <td>West Palm Beach</td>\n",
       "      <td>Palm Beach</td>\n",
       "      <td>FL</td>\n",
       "      <td>Female</td>\n",
       "      <td>White / Caucasian</td>\n",
       "      <td>09/06/2024</td>\n",
       "    </tr>\n",
       "  </tbody>\n",
       "</table>\n",
       "</div>"
      ],
      "text/plain": [
       "  Case Number         DLC Legal Last Name Legal First Name Missing Age  \\\n",
       "0    MP128712  09/04/2024       Campirano            Nixon    16 Years   \n",
       "1    MP128606  08/31/2024           Batra           Anjali    18 Years   \n",
       "2    MP128466  08/30/2024           CLARK           JOSHUA    35 Years   \n",
       "3    MP128454  08/30/2024     Turney-Long           Alinda    16 Years   \n",
       "4    MP128473  08/30/2024            COTE            KATHY    78 Years   \n",
       "\n",
       "              City       County State Biological Sex   Race / Ethnicity  \\\n",
       "0         Goodyear     Maricopa    AZ           Male  White / Caucasian   \n",
       "1      Morgan Hill  Santa Clara    CA         Female              Other   \n",
       "2         Mulberry         Polk    FL           Male  White / Caucasian   \n",
       "3     Winter Haven         Polk    FL         Female  White / Caucasian   \n",
       "4  West Palm Beach   Palm Beach    FL         Female  White / Caucasian   \n",
       "\n",
       "  Date Modified  \n",
       "0    09/06/2024  \n",
       "1    09/04/2024  \n",
       "2    09/06/2024  \n",
       "3    09/06/2024  \n",
       "4    09/06/2024  "
      ]
     },
     "execution_count": 123,
     "metadata": {},
     "output_type": "execute_result"
    }
   ],
   "source": [
    "missing_df.head()"
   ]
  },
  {
   "cell_type": "code",
   "execution_count": null,
   "metadata": {},
   "outputs": [],
   "source": [
    "# State"
   ]
  },
  {
   "cell_type": "code",
   "execution_count": 124,
   "metadata": {},
   "outputs": [],
   "source": [
    "state_df_1 = missing_df[\"State\"]"
   ]
  },
  {
   "cell_type": "code",
   "execution_count": 125,
   "metadata": {},
   "outputs": [
    {
     "data": {
      "text/plain": [
       "count     25060\n",
       "unique       55\n",
       "top          CA\n",
       "freq       3561\n",
       "Name: State, dtype: object"
      ]
     },
     "execution_count": 125,
     "metadata": {},
     "output_type": "execute_result"
    }
   ],
   "source": [
    "state_df_1.describe()"
   ]
  },
  {
   "cell_type": "code",
   "execution_count": 126,
   "metadata": {},
   "outputs": [
    {
     "data": {
      "text/plain": [
       "array(['AZ', 'CA', 'FL', 'AR', 'CT', 'AL', 'CO', 'AK', 'DE', 'DC', 'MS',\n",
       "       'MI', 'OK', 'NC', 'IL', 'PA', 'HI', 'KY', 'SD', 'MD', 'MT', 'GA',\n",
       "       'NV', 'NJ', 'NY', 'NM', 'MO', 'OR', 'ND', 'LA', 'SC', 'MA', 'NE',\n",
       "       'IN', 'OH', 'MN', 'KS', 'NH', 'ME', 'IA', 'ID', 'RI', 'PR', 'GU',\n",
       "       'MP', 'TX', 'TN', 'UT', 'VA', 'WI', 'WA', 'WY', 'WV', 'VT', 'VI'],\n",
       "      dtype=object)"
      ]
     },
     "execution_count": 126,
     "metadata": {},
     "output_type": "execute_result"
    }
   ],
   "source": [
    "state_df_1.unique()\n",
    "\n",
    "# 50 states\n",
    "# + \n",
    "# District of Columbia, Puerto Rico, Guam, Mariana Islands, Virgin Islands "
   ]
  },
  {
   "cell_type": "code",
   "execution_count": 127,
   "metadata": {},
   "outputs": [
    {
     "name": "stdout",
     "output_type": "stream",
     "text": [
      "55\n"
     ]
    }
   ],
   "source": [
    "import collections\n",
    "print(len([i for i, cnt in collections.Counter(state_df_1).items() if cnt > 1]))"
   ]
  },
  {
   "cell_type": "code",
   "execution_count": 128,
   "metadata": {},
   "outputs": [
    {
     "name": "stdout",
     "output_type": "stream",
     "text": [
      "<class 'pandas.core.series.Series'>\n",
      "RangeIndex: 25060 entries, 0 to 25059\n",
      "Series name: State\n",
      "Non-Null Count  Dtype \n",
      "--------------  ----- \n",
      "25060 non-null  object\n",
      "dtypes: object(1)\n",
      "memory usage: 195.9+ KB\n"
     ]
    }
   ],
   "source": [
    "state_df_1.info()"
   ]
  },
  {
   "cell_type": "code",
   "execution_count": null,
   "metadata": {},
   "outputs": [],
   "source": [
    "# DLC "
   ]
  },
  {
   "cell_type": "code",
   "execution_count": 129,
   "metadata": {},
   "outputs": [
    {
     "data": {
      "text/plain": [
       "0    09/04/2024\n",
       "1    08/31/2024\n",
       "2    08/30/2024\n",
       "3    08/30/2024\n",
       "4    08/30/2024\n",
       "Name: DLC, dtype: object"
      ]
     },
     "execution_count": 129,
     "metadata": {},
     "output_type": "execute_result"
    }
   ],
   "source": [
    "dlc_missing_1 = missing_df[\"DLC\"]\n",
    "dlc_missing_1.head()"
   ]
  },
  {
   "cell_type": "code",
   "execution_count": 130,
   "metadata": {},
   "outputs": [
    {
     "data": {
      "text/plain": [
       "12159"
      ]
     },
     "execution_count": 130,
     "metadata": {},
     "output_type": "execute_result"
    }
   ],
   "source": [
    "dlc_missing_1.nunique()"
   ]
  },
  {
   "cell_type": "code",
   "execution_count": 131,
   "metadata": {},
   "outputs": [
    {
     "data": {
      "text/plain": [
       "count          25060\n",
       "unique         12159\n",
       "top       01/01/2001\n",
       "freq              17\n",
       "Name: DLC, dtype: object"
      ]
     },
     "execution_count": 131,
     "metadata": {},
     "output_type": "execute_result"
    }
   ],
   "source": [
    "dlc_missing_1.describe()"
   ]
  },
  {
   "cell_type": "code",
   "execution_count": 132,
   "metadata": {},
   "outputs": [
    {
     "name": "stdout",
     "output_type": "stream",
     "text": [
      "<class 'pandas.core.series.Series'>\n",
      "RangeIndex: 25060 entries, 0 to 25059\n",
      "Series name: DLC\n",
      "Non-Null Count  Dtype \n",
      "--------------  ----- \n",
      "25060 non-null  object\n",
      "dtypes: object(1)\n",
      "memory usage: 195.9+ KB\n"
     ]
    }
   ],
   "source": [
    "dlc_missing_1.info()"
   ]
  },
  {
   "cell_type": "code",
   "execution_count": 133,
   "metadata": {},
   "outputs": [
    {
     "data": {
      "text/plain": [
       "0    16 Years\n",
       "1    18 Years\n",
       "2    35 Years\n",
       "3    16 Years\n",
       "4    78 Years\n",
       "Name: Missing Age, dtype: object"
      ]
     },
     "execution_count": 133,
     "metadata": {},
     "output_type": "execute_result"
    }
   ],
   "source": [
    "age = missing_df[\"Missing Age\"]\n",
    "age.head()"
   ]
  },
  {
   "cell_type": "code",
   "execution_count": 134,
   "metadata": {},
   "outputs": [],
   "source": [
    "# in case we need to drop an idx\n",
    "drop_row_idx = []\n",
    "\n",
    "# purpose: make every age value into a numerical value \n",
    "def ageToNumerical(df): \n",
    "    for idx, i in enumerate(df[\"Missing Age\"]): \n",
    "        # for null/empty/nan values\n",
    "        if pd.isna(i) or i == \"\" or isinstance(i, (int, float)) or pd.isnull(i): \n",
    "            drop_row_idx.append(idx) \n",
    "\n",
    "    # handling special cases \n",
    "        # 1 - 10 age \n",
    "        elif str(i).strip() == '< 1 Year' or str(i).strip() == '1 - 2 Years': \n",
    "            df.loc[idx, \"Missing Age\"] = 1\n",
    "\n",
    "        elif str(i).strip() == '3 - 4 Years': \n",
    "            df.loc[idx, \"Missing Age\"] = 3\n",
    "\n",
    "        # 10 - 20 age \n",
    "        elif str(i).strip() == '14 - 15 Years': \n",
    "            df.loc[idx, \"Missing Age\"] = 14\n",
    "\n",
    "        elif str(i).strip() == '15 - 17 Years': \n",
    "            df.loc[idx, \"Missing Age\"] = 16\n",
    "\n",
    "        elif str(i).strip() == '16 - 18 Years' or str(i).strip() == '16 - 17 Years': \n",
    "            df.loc[idx, \"Missing Age\"] = 17\n",
    "\n",
    "        elif str(i).strip() == '18 - 20 Years': \n",
    "            df.loc[idx, \"Missing Age\"] = 19\n",
    "\n",
    "\n",
    "        # 20 - 30 age\n",
    "        elif str(i).strip() == '21 - 22 Years': \n",
    "            df.loc[idx, \"Missing Age\"] = 21\n",
    "\n",
    "        elif str(i).strip() == '23 - 24 Years' or str(i).strip() == '23 - 25 Years': \n",
    "            df.loc[idx, \"Missing Age\"] = 23\n",
    "\n",
    "        elif str(i).strip() == '29 - 31 Years' or str(i).strip() == '25 - 35 Years' or str(i).strip() == '25 - 39 Years': \n",
    "            df.loc[idx, \"Missing Age\"] = 30\n",
    "\n",
    "        # 30 - 40 age \n",
    "        elif str(i).strip() == '30 - 40 Years' or str(i).strip() == '35 - 37 Years' or str(i).strip() == '36 - 37 Years' or str(i).strip() == '33 - 34 Years' or str(i).strip() == '34 - 35 Years': \n",
    "            df.loc[idx, \"Missing Age\"] = 35\n",
    "\n",
    "        elif str(i).strip() == '37 - 38 Years' or str(i).strip() == '30 - 31 Years': \n",
    "            df.loc[idx, \"Missing Age\"] = 37\n",
    "\n",
    "        elif str(i).strip() == '39 - 41 Years' or str(i).strip() == '40 - 41 Years': \n",
    "            df.loc[idx, \"Missing Age\"] = 40\n",
    "\n",
    "        # 40 - 50 age \n",
    "        elif str(i).strip() == '42 - 44 Years' or str(i).strip() == '40 - 47 Years' or str(i).strip() == '40 - 42 Years' or str(i).strip() == '44 - 45 Years' or str(i).strip() == '43 - 44 Years': \n",
    "            df.loc[idx, \"Missing Age\"] = 43\n",
    "\n",
    "        elif str(i).strip() == '49 - 50 Years': \n",
    "            df.loc[idx, \"Missing Age\"] = 50\n",
    "\n",
    "        # 50 - 60 age \n",
    "        elif str(i).strip() == '50 - 60 Years' or str(i).strip() == '51 - 52 Years': \n",
    "            df.loc[idx, \"Missing Age\"] = 55\n",
    "\n",
    "        elif str(i).strip() == '55 - 65 Years' or str(i).strip() == '59 - 60 Years': \n",
    "            df.loc[idx, \"Missing Age\"] = 60\n",
    "\n",
    "        elif str(i).strip() == '56 - 60 Years': \n",
    "            df.loc[idx, \"Missing Age\"] = 58\n",
    "\n",
    "        # senior \n",
    "        elif str(i).strip() == '65 - 71 Years' or str(i).strip() == '80 - 82 Years': \n",
    "            df.loc[idx, \"Missing Age\"] = 70\n",
    "\n",
    "    # most common cases\n",
    "        # ex. \"20 Years\" \n",
    "        else: \n",
    "            df.loc[idx, \"Missing Age\"] = i[0:-5]\n",
    "\n",
    "    # string to float \n",
    "    df[\"Missing Age\"] = df[\"Missing Age\"].astype(float)\n",
    "\n",
    "    return df \n",
    "    \n",
    "\n",
    "missing_df_1 = ageToNumerical(missing_df) "
   ]
  },
  {
   "cell_type": "code",
   "execution_count": 135,
   "metadata": {},
   "outputs": [
    {
     "name": "stdout",
     "output_type": "stream",
     "text": [
      "[3191, 3470, 5003, 5504, 9450]\n"
     ]
    }
   ],
   "source": [
    "# drop nan/null columns \n",
    "print(drop_row_idx)\n",
    "missing_df_1 = missing_df.drop(index=drop_row_idx)"
   ]
  },
  {
   "cell_type": "code",
   "execution_count": 136,
   "metadata": {},
   "outputs": [
    {
     "data": {
      "text/html": [
       "<div>\n",
       "<style scoped>\n",
       "    .dataframe tbody tr th:only-of-type {\n",
       "        vertical-align: middle;\n",
       "    }\n",
       "\n",
       "    .dataframe tbody tr th {\n",
       "        vertical-align: top;\n",
       "    }\n",
       "\n",
       "    .dataframe thead th {\n",
       "        text-align: right;\n",
       "    }\n",
       "</style>\n",
       "<table border=\"1\" class=\"dataframe\">\n",
       "  <thead>\n",
       "    <tr style=\"text-align: right;\">\n",
       "      <th></th>\n",
       "      <th>Case Number</th>\n",
       "      <th>DLC</th>\n",
       "      <th>Legal Last Name</th>\n",
       "      <th>Legal First Name</th>\n",
       "      <th>Missing Age</th>\n",
       "      <th>City</th>\n",
       "      <th>County</th>\n",
       "      <th>State</th>\n",
       "      <th>Biological Sex</th>\n",
       "      <th>Race / Ethnicity</th>\n",
       "      <th>Date Modified</th>\n",
       "    </tr>\n",
       "  </thead>\n",
       "  <tbody>\n",
       "    <tr>\n",
       "      <th>0</th>\n",
       "      <td>MP128712</td>\n",
       "      <td>09/04/2024</td>\n",
       "      <td>Campirano</td>\n",
       "      <td>Nixon</td>\n",
       "      <td>16.0</td>\n",
       "      <td>Goodyear</td>\n",
       "      <td>Maricopa</td>\n",
       "      <td>AZ</td>\n",
       "      <td>Male</td>\n",
       "      <td>White / Caucasian</td>\n",
       "      <td>09/06/2024</td>\n",
       "    </tr>\n",
       "    <tr>\n",
       "      <th>1</th>\n",
       "      <td>MP128606</td>\n",
       "      <td>08/31/2024</td>\n",
       "      <td>Batra</td>\n",
       "      <td>Anjali</td>\n",
       "      <td>18.0</td>\n",
       "      <td>Morgan Hill</td>\n",
       "      <td>Santa Clara</td>\n",
       "      <td>CA</td>\n",
       "      <td>Female</td>\n",
       "      <td>Other</td>\n",
       "      <td>09/04/2024</td>\n",
       "    </tr>\n",
       "    <tr>\n",
       "      <th>2</th>\n",
       "      <td>MP128466</td>\n",
       "      <td>08/30/2024</td>\n",
       "      <td>CLARK</td>\n",
       "      <td>JOSHUA</td>\n",
       "      <td>35.0</td>\n",
       "      <td>Mulberry</td>\n",
       "      <td>Polk</td>\n",
       "      <td>FL</td>\n",
       "      <td>Male</td>\n",
       "      <td>White / Caucasian</td>\n",
       "      <td>09/06/2024</td>\n",
       "    </tr>\n",
       "    <tr>\n",
       "      <th>3</th>\n",
       "      <td>MP128454</td>\n",
       "      <td>08/30/2024</td>\n",
       "      <td>Turney-Long</td>\n",
       "      <td>Alinda</td>\n",
       "      <td>16.0</td>\n",
       "      <td>Winter Haven</td>\n",
       "      <td>Polk</td>\n",
       "      <td>FL</td>\n",
       "      <td>Female</td>\n",
       "      <td>White / Caucasian</td>\n",
       "      <td>09/06/2024</td>\n",
       "    </tr>\n",
       "    <tr>\n",
       "      <th>4</th>\n",
       "      <td>MP128473</td>\n",
       "      <td>08/30/2024</td>\n",
       "      <td>COTE</td>\n",
       "      <td>KATHY</td>\n",
       "      <td>78.0</td>\n",
       "      <td>West Palm Beach</td>\n",
       "      <td>Palm Beach</td>\n",
       "      <td>FL</td>\n",
       "      <td>Female</td>\n",
       "      <td>White / Caucasian</td>\n",
       "      <td>09/06/2024</td>\n",
       "    </tr>\n",
       "  </tbody>\n",
       "</table>\n",
       "</div>"
      ],
      "text/plain": [
       "  Case Number         DLC Legal Last Name Legal First Name  Missing Age  \\\n",
       "0    MP128712  09/04/2024       Campirano            Nixon         16.0   \n",
       "1    MP128606  08/31/2024           Batra           Anjali         18.0   \n",
       "2    MP128466  08/30/2024           CLARK           JOSHUA         35.0   \n",
       "3    MP128454  08/30/2024     Turney-Long           Alinda         16.0   \n",
       "4    MP128473  08/30/2024            COTE            KATHY         78.0   \n",
       "\n",
       "              City       County State Biological Sex   Race / Ethnicity  \\\n",
       "0         Goodyear     Maricopa    AZ           Male  White / Caucasian   \n",
       "1      Morgan Hill  Santa Clara    CA         Female              Other   \n",
       "2         Mulberry         Polk    FL           Male  White / Caucasian   \n",
       "3     Winter Haven         Polk    FL         Female  White / Caucasian   \n",
       "4  West Palm Beach   Palm Beach    FL         Female  White / Caucasian   \n",
       "\n",
       "  Date Modified  \n",
       "0    09/06/2024  \n",
       "1    09/04/2024  \n",
       "2    09/06/2024  \n",
       "3    09/06/2024  \n",
       "4    09/06/2024  "
      ]
     },
     "execution_count": 136,
     "metadata": {},
     "output_type": "execute_result"
    }
   ],
   "source": [
    "missing_df_1.head()"
   ]
  },
  {
   "cell_type": "code",
   "execution_count": 137,
   "metadata": {},
   "outputs": [
    {
     "data": {
      "text/plain": [
       "0    16.0\n",
       "1    18.0\n",
       "2    35.0\n",
       "3    16.0\n",
       "4    78.0\n",
       "Name: Missing Age, dtype: float64"
      ]
     },
     "execution_count": 137,
     "metadata": {},
     "output_type": "execute_result"
    }
   ],
   "source": [
    "age_1 = missing_df_1[\"Missing Age\"]\n",
    "age_1.head()"
   ]
  },
  {
   "cell_type": "code",
   "execution_count": 138,
   "metadata": {},
   "outputs": [
    {
     "data": {
      "text/plain": [
       "count    25055.000000\n",
       "mean        34.406546\n",
       "std         17.279730\n",
       "min          1.000000\n",
       "25%         21.000000\n",
       "50%         32.000000\n",
       "75%         45.000000\n",
       "max        116.000000\n",
       "Name: Missing Age, dtype: float64"
      ]
     },
     "execution_count": 138,
     "metadata": {},
     "output_type": "execute_result"
    }
   ],
   "source": [
    "age_1.describe()"
   ]
  },
  {
   "cell_type": "code",
   "execution_count": 139,
   "metadata": {},
   "outputs": [
    {
     "name": "stdout",
     "output_type": "stream",
     "text": [
      "<class 'pandas.core.series.Series'>\n",
      "Index: 25055 entries, 0 to 25059\n",
      "Series name: Missing Age\n",
      "Non-Null Count  Dtype  \n",
      "--------------  -----  \n",
      "25055 non-null  float64\n",
      "dtypes: float64(1)\n",
      "memory usage: 391.5 KB\n"
     ]
    }
   ],
   "source": [
    "age_1.info()"
   ]
  },
  {
   "cell_type": "code",
   "execution_count": 140,
   "metadata": {},
   "outputs": [
    {
     "data": {
      "text/plain": [
       "np.int64(0)"
      ]
     },
     "execution_count": 140,
     "metadata": {},
     "output_type": "execute_result"
    }
   ],
   "source": [
    "age_1.isnull().sum()"
   ]
  },
  {
   "cell_type": "code",
   "execution_count": null,
   "metadata": {},
   "outputs": [],
   "source": [
    "# Gender "
   ]
  },
  {
   "cell_type": "code",
   "execution_count": 141,
   "metadata": {},
   "outputs": [
    {
     "data": {
      "text/plain": [
       "0      Male\n",
       "1    Female\n",
       "2      Male\n",
       "3    Female\n",
       "4    Female\n",
       "Name: Biological Sex, dtype: object"
      ]
     },
     "execution_count": 141,
     "metadata": {},
     "output_type": "execute_result"
    }
   ],
   "source": [
    "gender = missing_df_1[\"Biological Sex\"]\n",
    "gender.head()"
   ]
  },
  {
   "cell_type": "code",
   "execution_count": 142,
   "metadata": {},
   "outputs": [
    {
     "data": {
      "text/plain": [
       "array(['Male', 'Female', 'Other'], dtype=object)"
      ]
     },
     "execution_count": 142,
     "metadata": {},
     "output_type": "execute_result"
    }
   ],
   "source": [
    "gender.unique()"
   ]
  },
  {
   "cell_type": "code",
   "execution_count": 143,
   "metadata": {},
   "outputs": [
    {
     "data": {
      "image/png": "[encoded data removed]",
      "text/plain": [
       "<Figure size 640x480 with 1 Axes>"
      ]
     },
     "metadata": {},
     "output_type": "display_data"
    }
   ],
   "source": [
    "import matplotlib.pyplot as plt\n",
    "\n",
    "# Get value counts\n",
    "value_counts = gender.value_counts()\n",
    "\n",
    "# Plot the value counts\n",
    "value_counts.plot(kind='bar')\n",
    "\n",
    "# Add labels and title\n",
    "plt.xlabel('Categories')\n",
    "plt.ylabel('Frequency')\n",
    "plt.title('Value Counts of Column')\n",
    "\n",
    "# Show plot\n",
    "plt.show()"
   ]
  },
  {
   "cell_type": "code",
   "execution_count": 144,
   "metadata": {},
   "outputs": [
    {
     "data": {
      "text/plain": [
       "Biological Sex\n",
       "Male      15702\n",
       "Female     9347\n",
       "Other         6\n",
       "Name: count, dtype: int64"
      ]
     },
     "execution_count": 144,
     "metadata": {},
     "output_type": "execute_result"
    }
   ],
   "source": [
    "gender.value_counts()"
   ]
  },
  {
   "cell_type": "code",
   "execution_count": null,
   "metadata": {},
   "outputs": [],
   "source": [
    "# Ethnicity "
   ]
  },
  {
   "cell_type": "code",
   "execution_count": 145,
   "metadata": {},
   "outputs": [
    {
     "data": {
      "text/plain": [
       "0    White / Caucasian\n",
       "1                Other\n",
       "2    White / Caucasian\n",
       "3    White / Caucasian\n",
       "4    White / Caucasian\n",
       "Name: Race / Ethnicity, dtype: object"
      ]
     },
     "execution_count": 145,
     "metadata": {},
     "output_type": "execute_result"
    }
   ],
   "source": [
    "ethnicity = missing_df_1[\"Race / Ethnicity\"]\n",
    "ethnicity.head()"
   ]
  },
  {
   "cell_type": "code",
   "execution_count": 146,
   "metadata": {},
   "outputs": [
    {
     "data": {
      "text/plain": [
       "75"
      ]
     },
     "execution_count": 146,
     "metadata": {},
     "output_type": "execute_result"
    }
   ],
   "source": [
    "ethnicity.nunique()"
   ]
  },
  {
   "cell_type": "code",
   "execution_count": 147,
   "metadata": {},
   "outputs": [],
   "source": [
    "# purpose: reduce Race/Ethnicity categories \n",
    "def reduceRaceCategories(df): \n",
    "    # new column for new race categories\n",
    "    df[\"Race Category\"] = \"\"\n",
    "\n",
    "    for idx, i in enumerate(df[\"Race / Ethnicity\"]): \n",
    "        # to new column for race category \n",
    "        if i == \"Hispanic / Latino\": \n",
    "            df.loc[idx, \"Race Category\"] = \"Hispanic / Latino\" \n",
    "\n",
    "        elif i == \"White / Caucasian\": \n",
    "            df.loc[idx, \"Race Category\"] = \"White / Caucasian\" \n",
    "            \n",
    "        elif i == \"Black / African American\": \n",
    "            df.loc[idx, \"Race Category\"] = \"Black / African American\" \n",
    "            \n",
    "        elif i == \"American Indian / Alaska Native\": \n",
    "            df.loc[idx, \"Race Category\"] = \"American Indian / Alaska Native\" \n",
    "            \n",
    "        elif i == \"Asian\": \n",
    "            df.loc[idx, \"Race Category\"] = \"Asian\"\n",
    "        # for mixed races / other\n",
    "        else: \n",
    "            df.loc[idx, \"Race Category\"] = \"Mix / Other / Unknown\"\n",
    "\n",
    "    df = df.drop([\"Race / Ethnicity\"], axis=1)\n",
    "\n",
    "    return df \n",
    "\n",
    "missing_df_2 = reduceRaceCategories(missing_df_1) "
   ]
  },
  {
   "cell_type": "code",
   "execution_count": 148,
   "metadata": {},
   "outputs": [
    {
     "name": "stdout",
     "output_type": "stream",
     "text": [
      "Empty\n",
      "Empty\n",
      "Empty\n",
      "Empty\n",
      "Empty\n"
     ]
    },
    {
     "name": "stderr",
     "output_type": "stream",
     "text": [
      "C:\\Users\\Jason Rubio\\AppData\\Local\\Temp\\ipykernel_19340\\3086652693.py:7: FutureWarning: A value is trying to be set on a copy of a DataFrame or Series through chained assignment using an inplace method.\n",
      "The behavior will change in pandas 3.0. This inplace method will never work because the intermediate object on which we are setting values always behaves as a copy.\n",
      "\n",
      "For example, when doing 'df[col].method(value, inplace=True)', try using 'df.method({col: value}, inplace=True)' or df[col] = df[col].method(value) instead, to perform the operation inplace on the original object.\n",
      "\n",
      "\n",
      "  missing_df_2[\"Race Category\"].fillna(\"Mix / Other / Unknown\", inplace=True)\n"
     ]
    }
   ],
   "source": [
    "for idx, i in enumerate(missing_df_2[\"Race Category\"]): \n",
    "    if pd.isna(i) or str(i).strip() == \"\": \n",
    "        missing_df_2.loc[idx, \"Race Category\"] = \"Mix / Other / Unknown\" \n",
    "        print(\"Empty\")\n",
    "\n",
    "missing_df_2[\"Race Category\"] = missing_df_2[\"Race Category\"].replace(r'^\\s*$', np.nan, regex=True)\n",
    "missing_df_2[\"Race Category\"].fillna(\"Mix / Other / Unknown\", inplace=True)"
   ]
  },
  {
   "cell_type": "code",
   "execution_count": 150,
   "metadata": {},
   "outputs": [
    {
     "data": {
      "text/plain": [
       "Race Category\n",
       "White / Caucasian                  14066\n",
       "Black / African American            4084\n",
       "Hispanic / Latino                   3465\n",
       "Mix / Other / Unknown               2071\n",
       "American Indian / Alaska Native      797\n",
       "Asian                                577\n",
       "Name: count, dtype: int64"
      ]
     },
     "execution_count": 150,
     "metadata": {},
     "output_type": "execute_result"
    }
   ],
   "source": [
    "ethnicity = missing_df_2[\"Race Category\"]\n",
    "ethnicity.value_counts()"
   ]
  },
  {
   "cell_type": "code",
   "execution_count": 151,
   "metadata": {},
   "outputs": [
    {
     "data": {
      "text/html": [
       "<div>\n",
       "<style scoped>\n",
       "    .dataframe tbody tr th:only-of-type {\n",
       "        vertical-align: middle;\n",
       "    }\n",
       "\n",
       "    .dataframe tbody tr th {\n",
       "        vertical-align: top;\n",
       "    }\n",
       "\n",
       "    .dataframe thead th {\n",
       "        text-align: right;\n",
       "    }\n",
       "</style>\n",
       "<table border=\"1\" class=\"dataframe\">\n",
       "  <thead>\n",
       "    <tr style=\"text-align: right;\">\n",
       "      <th></th>\n",
       "      <th>Case Number</th>\n",
       "      <th>DLC</th>\n",
       "      <th>Legal Last Name</th>\n",
       "      <th>Legal First Name</th>\n",
       "      <th>Missing Age</th>\n",
       "      <th>City</th>\n",
       "      <th>County</th>\n",
       "      <th>State</th>\n",
       "      <th>Biological Sex</th>\n",
       "      <th>Date Modified</th>\n",
       "      <th>Race Category</th>\n",
       "    </tr>\n",
       "  </thead>\n",
       "  <tbody>\n",
       "    <tr>\n",
       "      <th>0</th>\n",
       "      <td>MP128712</td>\n",
       "      <td>09/04/2024</td>\n",
       "      <td>Campirano</td>\n",
       "      <td>Nixon</td>\n",
       "      <td>16.0</td>\n",
       "      <td>Goodyear</td>\n",
       "      <td>Maricopa</td>\n",
       "      <td>AZ</td>\n",
       "      <td>Male</td>\n",
       "      <td>09/06/2024</td>\n",
       "      <td>White / Caucasian</td>\n",
       "    </tr>\n",
       "    <tr>\n",
       "      <th>1</th>\n",
       "      <td>MP128606</td>\n",
       "      <td>08/31/2024</td>\n",
       "      <td>Batra</td>\n",
       "      <td>Anjali</td>\n",
       "      <td>18.0</td>\n",
       "      <td>Morgan Hill</td>\n",
       "      <td>Santa Clara</td>\n",
       "      <td>CA</td>\n",
       "      <td>Female</td>\n",
       "      <td>09/04/2024</td>\n",
       "      <td>Mix / Other / Unknown</td>\n",
       "    </tr>\n",
       "    <tr>\n",
       "      <th>2</th>\n",
       "      <td>MP128466</td>\n",
       "      <td>08/30/2024</td>\n",
       "      <td>CLARK</td>\n",
       "      <td>JOSHUA</td>\n",
       "      <td>35.0</td>\n",
       "      <td>Mulberry</td>\n",
       "      <td>Polk</td>\n",
       "      <td>FL</td>\n",
       "      <td>Male</td>\n",
       "      <td>09/06/2024</td>\n",
       "      <td>White / Caucasian</td>\n",
       "    </tr>\n",
       "    <tr>\n",
       "      <th>3</th>\n",
       "      <td>MP128454</td>\n",
       "      <td>08/30/2024</td>\n",
       "      <td>Turney-Long</td>\n",
       "      <td>Alinda</td>\n",
       "      <td>16.0</td>\n",
       "      <td>Winter Haven</td>\n",
       "      <td>Polk</td>\n",
       "      <td>FL</td>\n",
       "      <td>Female</td>\n",
       "      <td>09/06/2024</td>\n",
       "      <td>White / Caucasian</td>\n",
       "    </tr>\n",
       "    <tr>\n",
       "      <th>4</th>\n",
       "      <td>MP128473</td>\n",
       "      <td>08/30/2024</td>\n",
       "      <td>COTE</td>\n",
       "      <td>KATHY</td>\n",
       "      <td>78.0</td>\n",
       "      <td>West Palm Beach</td>\n",
       "      <td>Palm Beach</td>\n",
       "      <td>FL</td>\n",
       "      <td>Female</td>\n",
       "      <td>09/06/2024</td>\n",
       "      <td>White / Caucasian</td>\n",
       "    </tr>\n",
       "  </tbody>\n",
       "</table>\n",
       "</div>"
      ],
      "text/plain": [
       "  Case Number         DLC Legal Last Name Legal First Name  Missing Age  \\\n",
       "0    MP128712  09/04/2024       Campirano            Nixon         16.0   \n",
       "1    MP128606  08/31/2024           Batra           Anjali         18.0   \n",
       "2    MP128466  08/30/2024           CLARK           JOSHUA         35.0   \n",
       "3    MP128454  08/30/2024     Turney-Long           Alinda         16.0   \n",
       "4    MP128473  08/30/2024            COTE            KATHY         78.0   \n",
       "\n",
       "              City       County State Biological Sex Date Modified  \\\n",
       "0         Goodyear     Maricopa    AZ           Male    09/06/2024   \n",
       "1      Morgan Hill  Santa Clara    CA         Female    09/04/2024   \n",
       "2         Mulberry         Polk    FL           Male    09/06/2024   \n",
       "3     Winter Haven         Polk    FL         Female    09/06/2024   \n",
       "4  West Palm Beach   Palm Beach    FL         Female    09/06/2024   \n",
       "\n",
       "           Race Category  \n",
       "0      White / Caucasian  \n",
       "1  Mix / Other / Unknown  \n",
       "2      White / Caucasian  \n",
       "3      White / Caucasian  \n",
       "4      White / Caucasian  "
      ]
     },
     "execution_count": 151,
     "metadata": {},
     "output_type": "execute_result"
    }
   ],
   "source": [
    "missing_df_2.head()"
   ]
  },
  {
   "cell_type": "code",
   "execution_count": 152,
   "metadata": {},
   "outputs": [
    {
     "ename": "ValueError",
     "evalue": "Cannot display a file using FileLinks. Use FileLink to display './ready-search-missing-person.csv'.",
     "output_type": "error",
     "traceback": [
      "\u001b[1;31m---------------------------------------------------------------------------\u001b[0m",
      "\u001b[1;31mValueError\u001b[0m                                Traceback (most recent call last)",
      "Cell \u001b[1;32mIn[152], line 7\u001b[0m\n\u001b[0;32m      3\u001b[0m \u001b[38;5;28;01mfrom\u001b[39;00m \u001b[38;5;21;01mIPython\u001b[39;00m\u001b[38;5;21;01m.\u001b[39;00m\u001b[38;5;21;01mdisplay\u001b[39;00m \u001b[38;5;28;01mimport\u001b[39;00m FileLink, FileLinks\n\u001b[0;32m      5\u001b[0m missing_df_2\u001b[38;5;241m.\u001b[39mto_csv(\u001b[38;5;124m'\u001b[39m\u001b[38;5;124m./ready-search-missing-person.csv\u001b[39m\u001b[38;5;124m'\u001b[39m, index\u001b[38;5;241m=\u001b[39m\u001b[38;5;28;01mFalse\u001b[39;00m)\n\u001b[1;32m----> 7\u001b[0m \u001b[43mFileLinks\u001b[49m\u001b[43m(\u001b[49m\u001b[38;5;124;43m'\u001b[39;49m\u001b[38;5;124;43m./ready-search-missing-person.csv\u001b[39;49m\u001b[38;5;124;43m'\u001b[39;49m\u001b[43m)\u001b[49m\n",
      "File \u001b[1;32m~\\AppData\\Local\\Packages\\PythonSoftwareFoundation.Python.3.11_qbz5n2kfra8p0\\LocalCache\\local-packages\\Python311\\site-packages\\IPython\\lib\\display.py:497\u001b[0m, in \u001b[0;36mFileLinks.__init__\u001b[1;34m(self, path, url_prefix, included_suffixes, result_html_prefix, result_html_suffix, notebook_display_formatter, terminal_display_formatter, recursive)\u001b[0m\n\u001b[0;32m    459\u001b[0m \u001b[38;5;250m\u001b[39m\u001b[38;5;124;03m\"\"\"\u001b[39;00m\n\u001b[0;32m    460\u001b[0m \u001b[38;5;124;03mSee :class:`FileLink` for the ``path``, ``url_prefix``,\u001b[39;00m\n\u001b[0;32m    461\u001b[0m \u001b[38;5;124;03m``result_html_prefix`` and ``result_html_suffix`` parameters.\u001b[39;00m\n\u001b[1;32m   (...)\u001b[0m\n\u001b[0;32m    494\u001b[0m \n\u001b[0;32m    495\u001b[0m \u001b[38;5;124;03m\"\"\"\u001b[39;00m\n\u001b[0;32m    496\u001b[0m \u001b[38;5;28;01mif\u001b[39;00m isfile(path):\n\u001b[1;32m--> 497\u001b[0m     \u001b[38;5;28;01mraise\u001b[39;00m \u001b[38;5;167;01mValueError\u001b[39;00m(\u001b[38;5;124m\"\u001b[39m\u001b[38;5;124mCannot display a file using FileLinks. \u001b[39m\u001b[38;5;124m\"\u001b[39m\n\u001b[0;32m    498\u001b[0m       \u001b[38;5;124m\"\u001b[39m\u001b[38;5;124mUse FileLink to display \u001b[39m\u001b[38;5;124m'\u001b[39m\u001b[38;5;132;01m%s\u001b[39;00m\u001b[38;5;124m'\u001b[39m\u001b[38;5;124m.\u001b[39m\u001b[38;5;124m\"\u001b[39m \u001b[38;5;241m%\u001b[39m path)\n\u001b[0;32m    499\u001b[0m \u001b[38;5;28mself\u001b[39m\u001b[38;5;241m.\u001b[39mincluded_suffixes \u001b[38;5;241m=\u001b[39m included_suffixes\n\u001b[0;32m    500\u001b[0m \u001b[38;5;66;03m# remove trailing slashes for more consistent output formatting\u001b[39;00m\n",
      "\u001b[1;31mValueError\u001b[0m: Cannot display a file using FileLinks. Use FileLink to display './ready-search-missing-person.csv'."
     ]
    }
   ],
   "source": [
    "#Export database \n",
    "\n",
    "from IPython.display import FileLink, FileLinks\n",
    "\n",
    "missing_df_2.to_csv('./ready-search-missing-person.csv', index=False)\n",
    "\n",
    "FileLinks('./ready-search-missing-person.csv')"
   ]
  }
 ],
 "metadata": {
  "kernelspec": {
   "display_name": "Python 3",
   "language": "python",
   "name": "python3"
  },
  "language_info": {
   "codemirror_mode": {
    "name": "ipython",
    "version": 3
   },
   "file_extension": ".py",
   "mimetype": "text/x-python",
   "name": "python",
   "nbconvert_exporter": "python",
   "pygments_lexer": "ipython3",
   "version": "3.11.9"
  }
 },
 "nbformat": 4,
 "nbformat_minor": 2
}
